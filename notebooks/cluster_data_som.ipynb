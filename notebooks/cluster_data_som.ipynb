{
 "cells": [
  {
   "cell_type": "code",
   "execution_count": 1,
   "metadata": {
    "collapsed": true
   },
   "outputs": [],
   "source": [
    "import ast\n",
    "import matplotlib.pyplot as plt\n",
    "from minisom import MiniSom\n",
    "import numpy as np\n",
    "import pandas as pd\n",
    "import seaborn as sns\n",
    "from sklearn.cluster import AgglomerativeClustering, DBSCAN\n",
    "from sklearn.metrics import (adjusted_rand_score, normalized_mutual_info_score,\n",
    "                             adjusted_mutual_info_score, calinski_harabasz_score)"
   ]
  },
  {
   "cell_type": "code",
   "execution_count": 2,
   "outputs": [],
   "source": [
    "rng = np.random.default_rng()"
   ],
   "metadata": {
    "collapsed": false,
    "pycharm": {
     "name": "#%%\n"
    }
   }
  },
  {
   "cell_type": "code",
   "execution_count": 3,
   "outputs": [],
   "source": [
    "genres = ['rock', 'classical', 'latin', 'filmi']\n",
    "tracks = pd.read_csv('../data/tracks_with_genres.csv')\n",
    "tracks['genres'] = tracks['genres'].apply(ast.literal_eval)\n",
    "tracks = tracks.explode('genres')\n",
    "tracks.rename(columns={'genres': 'genre'}, inplace=True)\n",
    "tracks_subset = tracks[tracks['genre'].isin(genres)]"
   ],
   "metadata": {
    "collapsed": false,
    "pycharm": {
     "name": "#%%\n"
    }
   }
  },
  {
   "cell_type": "code",
   "execution_count": 4,
   "outputs": [],
   "source": [
    "tracks_genres = tracks_subset['genre'].astype('category')\n",
    "labels_integers = tracks_genres.cat.codes"
   ],
   "metadata": {
    "collapsed": false,
    "pycharm": {
     "name": "#%%\n"
    }
   }
  },
  {
   "cell_type": "markdown",
   "source": [
    "## Data\n",
    "A subset of the data has been used for clustering in this notebook.\n",
    "The distribution of the data between genres can be seen in the following plot."
   ],
   "metadata": {
    "collapsed": false,
    "pycharm": {
     "name": "#%% md\n"
    }
   }
  },
  {
   "cell_type": "code",
   "execution_count": 5,
   "outputs": [
    {
     "data": {
      "text/plain": "<Figure size 432x288 with 1 Axes>",
      "image/png": "[encoded data removed]"
     },
     "metadata": {
      "needs_background": "light"
     },
     "output_type": "display_data"
    },
    {
     "name": "stdout",
     "output_type": "stream",
     "text": [
      "In total, there are 104438 tracks in the dataset used.\n"
     ]
    }
   ],
   "source": [
    "tracks_subset['genre'].hist()\n",
    "plt.ylabel('Number of tracks')\n",
    "plt.show()\n",
    "print(f'In total, there are {tracks_subset.shape[0]} tracks in the dataset used.')\n"
   ],
   "metadata": {
    "collapsed": false,
    "pycharm": {
     "name": "#%%\n"
    }
   }
  },
  {
   "cell_type": "markdown",
   "source": [
    "Convert the pandas dataframe to a matrix of numerical values, normalize the values column wise and shuffle the rows."
   ],
   "metadata": {
    "collapsed": false
   }
  },
  {
   "cell_type": "code",
   "execution_count": 6,
   "outputs": [],
   "source": [
    "features = ['acousticness', 'instrumentalness', 'loudness', 'energy', 'danceability', 'valence']\n",
    "tracks_values = tracks_subset[features].values\n",
    "tracks_values = (tracks_values - tracks_values.mean(axis=0))/tracks_values.std(axis=0)\n",
    "rng.shuffle(tracks_values, axis=0)"
   ],
   "metadata": {
    "collapsed": false,
    "pycharm": {
     "name": "#%%\n"
    }
   }
  },
  {
   "cell_type": "markdown",
   "source": [
    "## Clustering"
   ],
   "metadata": {
    "collapsed": false,
    "pycharm": {
     "name": "#%% md\n"
    }
   }
  },
  {
   "cell_type": "code",
   "execution_count": 7,
   "outputs": [
    {
     "name": "stdout",
     "output_type": "stream",
     "text": [
      " [ 100000 / 100000 ] 100% - 0:00:00 left \n",
      " quantization error: 0.5230085647637525\n"
     ]
    }
   ],
   "source": [
    "som_clusters = (44, 44)\n",
    "som = MiniSom(som_clusters[0], som_clusters[1], tracks_values.shape[1],\n",
    "              sigma=2, learning_rate=0.01)\n",
    "som.train_batch(tracks_values, 100000, verbose=True)"
   ],
   "metadata": {
    "collapsed": false,
    "pycharm": {
     "name": "#%%\n"
    }
   }
  },
  {
   "cell_type": "code",
   "execution_count": 8,
   "outputs": [],
   "source": [
    "neuron_activations = som.activation_response(tracks_values)"
   ],
   "metadata": {
    "collapsed": false,
    "pycharm": {
     "name": "#%%\n"
    }
   }
  },
  {
   "cell_type": "code",
   "execution_count": 9,
   "outputs": [
    {
     "name": "stdout",
     "output_type": "stream",
     "text": [
      "[-1  0  1  2  3  4  5  6  7  8]\n",
      "9\n"
     ]
    }
   ],
   "source": [
    "dbscan = DBSCAN(eps=0.5, n_jobs=-1, min_samples=5)\n",
    "labels = dbscan.fit_predict(\n",
    "    som._weights.reshape(som._weights.shape[0]*som._weights.shape[1],\n",
    "                         som._weights.shape[2]))\n",
    "print(np.unique(labels))\n",
    "\n",
    "n_clusters = len(set(labels)) - (1 if -1 in labels else 0)\n",
    "print(n_clusters)"
   ],
   "metadata": {
    "collapsed": false,
    "pycharm": {
     "name": "#%%\n"
    }
   }
  },
  {
   "cell_type": "markdown",
   "source": [
    "## Visualize\n",
    "First we visualize a heat map of the SOM neurons."
   ],
   "metadata": {
    "collapsed": false,
    "pycharm": {
     "name": "#%% md\n"
    }
   }
  },
  {
   "cell_type": "code",
   "execution_count": 10,
   "outputs": [
    {
     "data": {
      "text/plain": "<Figure size 432x288 with 2 Axes>",
      "image/png": "[encoded data removed]"
     },
     "metadata": {},
     "output_type": "display_data"
    }
   ],
   "source": [
    "sns.set_style('white')\n",
    "heatmap = sns.heatmap(neuron_activations)\n",
    "plt.axis('off')\n",
    "plt.show()\n",
    "heatmap.get_figure().savefig('../figures/neurons_heatmap.png')"
   ],
   "metadata": {
    "collapsed": false,
    "pycharm": {
     "name": "#%%\n"
    }
   }
  },
  {
   "cell_type": "markdown",
   "source": [
    "Then the distance map."
   ],
   "metadata": {
    "collapsed": false,
    "pycharm": {
     "name": "#%% md\n"
    }
   }
  },
  {
   "cell_type": "code",
   "execution_count": 11,
   "outputs": [
    {
     "data": {
      "text/plain": "<Figure size 432x288 with 2 Axes>",
      "image/png": "[encoded data removed]"
     },
     "metadata": {},
     "output_type": "display_data"
    }
   ],
   "source": [
    "sns.set_style('white')\n",
    "heatmap = sns.heatmap(som.distance_map())\n",
    "plt.axis('off')\n",
    "plt.show()\n",
    "heatmap.get_figure().savefig('../figures/neurons_heatmap.png')\n"
   ],
   "metadata": {
    "collapsed": false,
    "pycharm": {
     "name": "#%%\n"
    }
   }
  },
  {
   "cell_type": "markdown",
   "source": [
    "Finally, the weights of one of the features as a demo."
   ],
   "metadata": {
    "collapsed": false,
    "pycharm": {
     "name": "#%% md\n"
    }
   }
  },
  {
   "cell_type": "code",
   "execution_count": 12,
   "outputs": [
    {
     "data": {
      "text/plain": "<Figure size 432x288 with 2 Axes>",
      "image/png": "[encoded data removed]"
     },
     "metadata": {},
     "output_type": "display_data"
    }
   ],
   "source": [
    "# Feature importance\n",
    "sns.set_style('white')\n",
    "heatmap = sns.heatmap(som._weights[:, :, 5])\n",
    "plt.axis('off')\n",
    "plt.show()"
   ],
   "metadata": {
    "collapsed": false,
    "pycharm": {
     "name": "#%%\n"
    }
   }
  }
 ],
 "metadata": {
  "kernelspec": {
   "display_name": "Python 3",
   "language": "python",
   "name": "python3"
  },
  "language_info": {
   "codemirror_mode": {
    "name": "ipython",
    "version": 2
   },
   "file_extension": ".py",
   "mimetype": "text/x-python",
   "name": "python",
   "nbconvert_exporter": "python",
   "pygments_lexer": "ipython2",
   "version": "2.7.6"
  }
 },
 "nbformat": 4,
 "nbformat_minor": 0
}