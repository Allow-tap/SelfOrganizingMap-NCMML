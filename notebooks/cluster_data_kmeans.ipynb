{
 "cells": [
  {
   "cell_type": "code",
   "execution_count": 1,
   "metadata": {
    "collapsed": true,
    "pycharm": {
     "name": "#%%\n"
    }
   },
   "outputs": [],
   "source": [
    "import ast\n",
    "import matplotlib.pyplot as plt\n",
    "from sklearn.cluster import KMeans\n",
    "from sklearn.decomposition import PCA\n",
    "from sklearn.metrics import (adjusted_rand_score, normalized_mutual_info_score,\n",
    "                             adjusted_mutual_info_score, calinski_harabasz_score)\n",
    "import pandas as pd"
   ]
  },
  {
   "cell_type": "code",
   "execution_count": 2,
   "outputs": [],
   "source": [
    "genres = ['rock', 'classical', 'latin', 'filmi']\n",
    "tracks = pd.read_csv('../data/tracks_with_genres.csv')\n",
    "tracks['genres'] = tracks['genres'].apply(ast.literal_eval)\n",
    "tracks = tracks.explode('genres')\n",
    "tracks.rename(columns={'genres': 'genre'}, inplace=True)\n",
    "tracks_subset = tracks[tracks['genre'].isin(genres)]"
   ],
   "metadata": {
    "collapsed": false,
    "pycharm": {
     "name": "#%%\n"
    }
   }
  },
  {
   "cell_type": "code",
   "execution_count": 3,
   "outputs": [],
   "source": [
    "genres = tracks_subset['genre'].astype('category')\n",
    "labels_integers = genres.cat.codes\n"
   ],
   "metadata": {
    "collapsed": false,
    "pycharm": {
     "name": "#%%\n"
    }
   }
  },
  {
   "cell_type": "markdown",
   "source": [
    "## Data\n",
    "A subset of the data has been used for clustering in this notebook.\n",
    "The distribution of the data between genres can be seen in the following plot."
   ],
   "metadata": {
    "collapsed": false
   }
  },
  {
   "cell_type": "code",
   "execution_count": 4,
   "outputs": [
    {
     "data": {
      "text/plain": "<Figure size 432x288 with 1 Axes>",
      "image/png": "[encoded data removed]"
     },
     "metadata": {
      "needs_background": "light"
     },
     "output_type": "display_data"
    },
    {
     "name": "stdout",
     "output_type": "stream",
     "text": [
      "In total, there are 104438 tracks in the dataset used.\n"
     ]
    }
   ],
   "source": [
    "tracks_subset['genre'].hist()\n",
    "plt.ylabel('Number of tracks')\n",
    "plt.show()\n",
    "print(f'In total, there are {tracks_subset.shape[0]} tracks in the dataset used.')"
   ],
   "metadata": {
    "collapsed": false,
    "pycharm": {
     "name": "#%%\n"
    }
   }
  },
  {
   "cell_type": "code",
   "execution_count": 7,
   "outputs": [
    {
     "name": "stdout",
     "output_type": "stream",
     "text": [
      "ARI -1.2791611743040612\n",
      "NMI 0.26363086106917827\n",
      "AMI 0.2636065276691418\n",
      "Calinski Harabasz 46954.324776430425\n"
     ]
    },
    {
     "name": "stderr",
     "output_type": "stream",
     "text": [
      "/home/jonathan/.virtualenvs/project/lib/python3.6/site-packages/sklearn/metrics/cluster/_supervised.py:389: RuntimeWarning: overflow encountered in long_scalars\n",
      "  return 2. * (tp * tn - fn * fp) / ((tp + fn) * (fn + tn) +\n",
      "/home/jonathan/.virtualenvs/project/lib/python3.6/site-packages/sklearn/metrics/cluster/_supervised.py:390: RuntimeWarning: overflow encountered in long_scalars\n",
      "  (tp + fp) * (fp + tn))\n"
     ]
    }
   ],
   "source": [
    "features = ['acousticness', 'instrumentalness', 'loudness', 'energy', 'danceability', 'valence']\n",
    "X = tracks_subset[features]\n",
    "\n",
    "#pca_X = PCA(n_components=2).fit_transform(X)\n",
    "model = KMeans(n_clusters=4).fit(X)\n",
    "print('ARI', adjusted_rand_score(labels_integers, model.labels_))\n",
    "print('NMI', normalized_mutual_info_score(labels_integers, model.labels_))\n",
    "print('AMI', adjusted_mutual_info_score(labels_integers, model.labels_))\n",
    "print('Calinski Harabasz', calinski_harabasz_score(X, labels_integers))\n"
   ],
   "metadata": {
    "collapsed": false,
    "pycharm": {
     "name": "#%%\n"
    }
   }
  }
 ],
 "metadata": {
  "kernelspec": {
   "display_name": "Python 3",
   "language": "python",
   "name": "python3"
  },
  "language_info": {
   "codemirror_mode": {
    "name": "ipython",
    "version": 2
   },
   "file_extension": ".py",
   "mimetype": "text/x-python",
   "name": "python",
   "nbconvert_exporter": "python",
   "pygments_lexer": "ipython2",
   "version": "2.7.6"
  }
 },
 "nbformat": 4,
 "nbformat_minor": 0
}