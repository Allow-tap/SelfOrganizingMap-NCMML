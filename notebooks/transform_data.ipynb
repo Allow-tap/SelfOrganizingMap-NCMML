{
 "cells": [
  {
   "cell_type": "code",
   "execution_count": 1,
   "metadata": {
    "collapsed": true
   },
   "outputs": [],
   "source": [
    "import ast\n",
    "import pandas as pd"
   ]
  },
  {
   "cell_type": "code",
   "execution_count": 2,
   "outputs": [],
   "source": [
    "artists_data = pd.read_csv('../data/artists.csv')\n",
    "tracks_data = pd.read_csv('../data/tracks.csv')"
   ],
   "metadata": {
    "collapsed": false,
    "pycharm": {
     "name": "#%%\n"
    }
   }
  },
  {
   "cell_type": "code",
   "execution_count": 3,
   "outputs": [],
   "source": [
    "# Convert columns containing lists to actual Python lists\n",
    "artists_data['genres'] = artists_data['genres'].apply(ast.literal_eval)\n",
    "tracks_data['id_artists'] = tracks_data['id_artists'].apply(ast.literal_eval)\n",
    "tracks_data['artists'] = tracks_data['artists'].apply(ast.literal_eval)"
   ],
   "metadata": {
    "collapsed": false,
    "pycharm": {
     "name": "#%%\n"
    }
   }
  },
  {
   "cell_type": "code",
   "execution_count": 4,
   "outputs": [],
   "source": [
    "tracks_to_artists = tracks_data[['id', 'id_artists']].explode('id_artists')\n",
    "tracks_to_artists.columns = ['track_id', 'artist_id']\n",
    "#tracks_to_artists.to_csv('../data/tracks_to_artists.csv')"
   ],
   "metadata": {
    "collapsed": false,
    "pycharm": {
     "name": "#%%\n"
    }
   }
  },
  {
   "cell_type": "code",
   "execution_count": 5,
   "outputs": [],
   "source": [
    "artists_to_genres = artists_data[['id', 'genres']].explode('genres').dropna()\n",
    "artists_to_genres.columns = ['artist_id', 'genre']\n",
    "#artists_to_genres.to_csv('../data/artists_to_genres.csv')"
   ],
   "metadata": {
    "collapsed": false,
    "pycharm": {
     "name": "#%%\n"
    }
   }
  },
  {
   "cell_type": "code",
   "execution_count": 6,
   "outputs": [],
   "source": [
    "tracks_to_genres = tracks_to_artists.merge(artists_to_genres, on='artist_id').dropna()\n",
    "tracks_to_genres = tracks_to_genres.groupby('track_id').agg({'genre': lambda x: x.tolist()})\n",
    "#tracks_to_genres.to_csv('../data/tracks_to_genres.csv')"
   ],
   "metadata": {
    "collapsed": false,
    "pycharm": {
     "name": "#%%\n"
    }
   }
  },
  {
   "cell_type": "code",
   "execution_count": 7,
   "outputs": [],
   "source": [
    "tracks_with_genres = tracks_data.merge(tracks_to_genres, left_on='id', right_on='track_id')\n",
    "tracks_with_genres = tracks_with_genres.rename(columns={'genre': 'genres'})\n",
    "tracks_with_genres.to_csv('../data/tracks_with_genres.csv')"
   ],
   "metadata": {
    "collapsed": false,
    "pycharm": {
     "name": "#%%\n"
    }
   }
  }
 ],
 "metadata": {
  "kernelspec": {
   "display_name": "Python 3",
   "language": "python",
   "name": "python3"
  },
  "language_info": {
   "codemirror_mode": {
    "name": "ipython",
    "version": 2
   },
   "file_extension": ".py",
   "mimetype": "text/x-python",
   "name": "python",
   "nbconvert_exporter": "python",
   "pygments_lexer": "ipython2",
   "version": "2.7.6"
  }
 },
 "nbformat": 4,
 "nbformat_minor": 0
}