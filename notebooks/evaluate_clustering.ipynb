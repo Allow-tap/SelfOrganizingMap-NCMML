{
 "cells": [
  {
   "cell_type": "code",
   "execution_count": 52,
   "metadata": {
    "collapsed": true
   },
   "outputs": [],
   "source": [
    "import ast\n",
    "from collections import Counter\n",
    "\n",
    "from imblearn.under_sampling import RandomUnderSampler\n",
    "from matplotlib.colors import LogNorm\n",
    "import matplotlib.pyplot as plt\n",
    "import numpy as np\n",
    "import pandas as pd\n",
    "import pickle\n",
    "import seaborn as sns\n",
    "from sklearn.cluster import AgglomerativeClustering, MiniBatchKMeans"
   ]
  },
  {
   "cell_type": "code",
   "execution_count": 53,
   "outputs": [],
   "source": [
    "# Set the number of neurons to the same number as the loaded model\n",
    "som_neurons = (38, 38)\n",
    "model_path = '../models/AgglomerativeClustering_training_lr_0.001_sigma_7.5.p'\n",
    "ClusterClass = AgglomerativeClustering\n",
    "# ClusterClass = MiniBatchKMeans\n",
    "\n",
    "# Set this to LogNorm() if there is no clear clustering\n",
    "# heatmap_color_norm = None\n",
    "HeatmapColorNormClass = LogNorm\n",
    "\n",
    "rng = np.random.default_rng()"
   ],
   "metadata": {
    "collapsed": false,
    "pycharm": {
     "name": "#%%\n"
    }
   }
  },
  {
   "cell_type": "markdown",
   "source": [
    "## Data\n",
    "Select a subset of tracks from some genres, and under sample the genres\n",
    "to the size of the smallest genre."
   ],
   "metadata": {
    "collapsed": false,
    "pycharm": {
     "name": "#%% md\n"
    }
   }
  },
  {
   "cell_type": "code",
   "execution_count": null,
   "outputs": [],
   "source": [
    "genres = [\"rock\",\n",
    "          \"classical\",\n",
    "          \"latin\",\n",
    "          \"pop\",\n",
    "          \"jazz\",\n",
    "          \"soul\",\n",
    "          \"classic bollywood\",\n",
    "          \"rap\",\n",
    "          \"folk\",\n",
    "          \"funk\",\n",
    "          \"opera\"]\n",
    "tracks = pd.read_csv('../data/tracks_with_genres.csv')\n",
    "tracks['genres'] = tracks['genres'].apply(ast.literal_eval)\n",
    "tracks = tracks.explode('genres')\n",
    "tracks.rename(columns={'genres': 'genre'}, inplace=True)\n",
    "tracks_subset = tracks[tracks['genre'].isin(genres)]\n",
    "\n",
    "rus = RandomUnderSampler(random_state=1)\n",
    "X, y = rus.fit_resample(tracks_subset, tracks_subset['genre'])\n",
    "\n",
    "tracks_genres = y.astype('category')\n",
    "\n",
    "print(f'In total, there are {y.shape[0]} tracks in the dataset used.')"
   ],
   "metadata": {
    "collapsed": false,
    "pycharm": {
     "name": "#%%\n",
     "is_executing": true
    }
   }
  },
  {
   "cell_type": "markdown",
   "source": [
    "Convert the pandas dataframe to a matrix of numerical values, normalize the values column wise and shuffle the rows."
   ],
   "metadata": {
    "collapsed": false
   }
  },
  {
   "cell_type": "code",
   "execution_count": null,
   "outputs": [],
   "source": [
    "features = ['acousticness', 'instrumentalness', 'loudness', 'energy', 'danceability', 'valence']\n",
    "tracks_values = X[features].values\n",
    "tracks_values = (tracks_values - tracks_values.mean(axis=0))/tracks_values.std(axis=0)\n",
    "rng.shuffle(tracks_values, axis=0)"
   ],
   "metadata": {
    "collapsed": false,
    "pycharm": {
     "name": "#%%\n",
     "is_executing": true
    }
   }
  },
  {
   "cell_type": "code",
   "execution_count": null,
   "outputs": [],
   "source": [
    "# Load model\n",
    "with open(model_path, 'rb') as model_file:\n",
    "    som = pickle.load(model_file)"
   ],
   "metadata": {
    "collapsed": false,
    "pycharm": {
     "name": "#%%\n",
     "is_executing": true
    }
   }
  },
  {
   "cell_type": "code",
   "execution_count": null,
   "outputs": [],
   "source": [
    "neuron_activations = som.activation_response(tracks_values)\n",
    "\n",
    "sns.set_style('white')\n",
    "heatmap = sns.heatmap(neuron_activations, cbar_kws={'label': 'Number of activations'},\n",
    "                      norm=HeatmapColorNormClass())\n",
    "#plt.axis('off')\n",
    "plt.show()\n",
    "heatmap.get_figure().savefig('../figures/neurons_heatmap.png')"
   ],
   "metadata": {
    "collapsed": false,
    "pycharm": {
     "name": "#%%\n",
     "is_executing": true
    }
   }
  },
  {
   "cell_type": "markdown",
   "source": [
    "Display the distance map."
   ],
   "metadata": {
    "collapsed": false
   }
  },
  {
   "cell_type": "code",
   "execution_count": null,
   "outputs": [],
   "source": [
    "sns.set_style('white')\n",
    "heatmap = sns.heatmap(som.distance_map(), cbar_kws={'label': 'Distance'},\n",
    "                      norm=HeatmapColorNormClass())\n",
    "#plt.axis('off')\n",
    "plt.show()\n",
    "heatmap.get_figure().savefig('../figures/neurons_distance_map.png')"
   ],
   "metadata": {
    "collapsed": false,
    "pycharm": {
     "name": "#%%\n",
     "is_executing": true
    }
   }
  },
  {
   "cell_type": "code",
   "execution_count": null,
   "outputs": [],
   "source": [
    "cluster = ClusterClass(n_clusters=len(genres))\n",
    "som_weights = som.get_weights()\n",
    "labels = cluster.fit_predict(\n",
    "    som_weights.reshape(som_neurons[0]*som_neurons[1], len(features))\n",
    ")\n",
    "\n",
    "labels_matrix = labels.reshape(som_neurons[0], som_neurons[1])\n",
    "sns.heatmap(labels_matrix)\n",
    "plt.show()"
   ],
   "metadata": {
    "collapsed": false,
    "pycharm": {
     "name": "#%%\n",
     "is_executing": true
    }
   }
  },
  {
   "cell_type": "code",
   "execution_count": null,
   "outputs": [],
   "source": [
    "labels_map = som.labels_map(tracks_values, tracks_genres)\n",
    "labels_classified_as_genre = [Counter() for i in range(len(genres))]\n",
    "\n",
    "for neuron in range(len(labels)):\n",
    "    y, x = neuron//som_neurons[1], neuron%som_neurons[1]\n",
    "    label = labels[neuron]\n",
    "    counter = labels_map[(y, x)]\n",
    "\n",
    "    if counter:\n",
    "        labels_classified_as_genre[label] += counter\n",
    "\n",
    "for label in labels_classified_as_genre:\n",
    "    print(label)"
   ],
   "metadata": {
    "collapsed": false,
    "pycharm": {
     "name": "#%%\n",
     "is_executing": true
    }
   }
  },
  {
   "cell_type": "code",
   "execution_count": null,
   "outputs": [],
   "source": [
    "print(\"Songs per genre and cluster\")\n",
    "classifications = pd.DataFrame(labels_classified_as_genre)\n",
    "classifications.T.plot.bar(stacked=True)\n",
    "plt.legend(title='Cluster', loc='upper center', ncol=len(genres)//2,\n",
    "           bbox_to_anchor=(0.5, -0.15))\n",
    "plt.show()"
   ],
   "metadata": {
    "collapsed": false,
    "pycharm": {
     "name": "#%%\n",
     "is_executing": true
    }
   }
  }
 ],
 "metadata": {
  "kernelspec": {
   "display_name": "Python 3",
   "language": "python",
   "name": "python3"
  },
  "language_info": {
   "codemirror_mode": {
    "name": "ipython",
    "version": 2
   },
   "file_extension": ".py",
   "mimetype": "text/x-python",
   "name": "python",
   "nbconvert_exporter": "python",
   "pygments_lexer": "ipython2",
   "version": "2.7.6"
  }
 },
 "nbformat": 4,
 "nbformat_minor": 0
}